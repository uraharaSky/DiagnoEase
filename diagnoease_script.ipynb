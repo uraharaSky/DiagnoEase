{
 "cells": [
  {
   "cell_type": "code",
   "id": "initial_id",
   "metadata": {
    "collapsed": true,
    "ExecuteTime": {
     "end_time": "2025-04-06T18:16:29.855222Z",
     "start_time": "2025-04-06T18:16:29.849553Z"
    }
   },
   "source": "import pandas as pd",
   "outputs": [],
   "execution_count": 11
  },
  {
   "metadata": {
    "ExecuteTime": {
     "end_time": "2025-04-06T18:16:32.161651Z",
     "start_time": "2025-04-06T18:16:32.126600Z"
    }
   },
   "cell_type": "code",
   "source": "dataset = pd.read_csv(\"datasets/Training.csv\")",
   "id": "4127003a7ab8941d",
   "outputs": [],
   "execution_count": 12
  },
  {
   "metadata": {
    "ExecuteTime": {
     "end_time": "2025-04-06T18:16:33.967138Z",
     "start_time": "2025-04-06T18:16:33.949582Z"
    }
   },
   "cell_type": "code",
   "source": "print(dataset)",
   "id": "ebcdb327d5c32411",
   "outputs": [
    {
     "name": "stdout",
     "output_type": "stream",
     "text": [
      "      itching  skin_rash  nodal_skin_eruptions  continuous_sneezing  \\\n",
      "0           1          1                     1                    0   \n",
      "1           0          1                     1                    0   \n",
      "2           1          0                     1                    0   \n",
      "3           1          1                     0                    0   \n",
      "4           1          1                     1                    0   \n",
      "...       ...        ...                   ...                  ...   \n",
      "4915        0          0                     0                    0   \n",
      "4916        0          1                     0                    0   \n",
      "4917        0          0                     0                    0   \n",
      "4918        0          1                     0                    0   \n",
      "4919        0          1                     0                    0   \n",
      "\n",
      "      shivering  chills  joint_pain  stomach_pain  acidity  ulcers_on_tongue  \\\n",
      "0             0       0           0             0        0                 0   \n",
      "1             0       0           0             0        0                 0   \n",
      "2             0       0           0             0        0                 0   \n",
      "3             0       0           0             0        0                 0   \n",
      "4             0       0           0             0        0                 0   \n",
      "...         ...     ...         ...           ...      ...               ...   \n",
      "4915          0       0           0             0        0                 0   \n",
      "4916          0       0           0             0        0                 0   \n",
      "4917          0       0           0             0        0                 0   \n",
      "4918          0       0           1             0        0                 0   \n",
      "4919          0       0           0             0        0                 0   \n",
      "\n",
      "      ...  blackheads  scurring  skin_peeling  silver_like_dusting  \\\n",
      "0     ...           0         0             0                    0   \n",
      "1     ...           0         0             0                    0   \n",
      "2     ...           0         0             0                    0   \n",
      "3     ...           0         0             0                    0   \n",
      "4     ...           0         0             0                    0   \n",
      "...   ...         ...       ...           ...                  ...   \n",
      "4915  ...           0         0             0                    0   \n",
      "4916  ...           1         1             0                    0   \n",
      "4917  ...           0         0             0                    0   \n",
      "4918  ...           0         0             1                    1   \n",
      "4919  ...           0         0             0                    0   \n",
      "\n",
      "      small_dents_in_nails  inflammatory_nails  blister  red_sore_around_nose  \\\n",
      "0                        0                   0        0                     0   \n",
      "1                        0                   0        0                     0   \n",
      "2                        0                   0        0                     0   \n",
      "3                        0                   0        0                     0   \n",
      "4                        0                   0        0                     0   \n",
      "...                    ...                 ...      ...                   ...   \n",
      "4915                     0                   0        0                     0   \n",
      "4916                     0                   0        0                     0   \n",
      "4917                     0                   0        0                     0   \n",
      "4918                     1                   1        0                     0   \n",
      "4919                     0                   0        1                     1   \n",
      "\n",
      "      yellow_crust_ooze                                prognosis  \n",
      "0                     0                         Fungal infection  \n",
      "1                     0                         Fungal infection  \n",
      "2                     0                         Fungal infection  \n",
      "3                     0                         Fungal infection  \n",
      "4                     0                         Fungal infection  \n",
      "...                 ...                                      ...  \n",
      "4915                  0  (vertigo) Paroymsal  Positional Vertigo  \n",
      "4916                  0                                     Acne  \n",
      "4917                  0                  Urinary tract infection  \n",
      "4918                  0                                Psoriasis  \n",
      "4919                  1                                 Impetigo  \n",
      "\n",
      "[4920 rows x 133 columns]\n"
     ]
    }
   ],
   "execution_count": 13
  },
  {
   "metadata": {
    "ExecuteTime": {
     "end_time": "2025-04-06T18:16:37.382631Z",
     "start_time": "2025-04-06T18:16:37.361699Z"
    }
   },
   "cell_type": "code",
   "source": "dataset.head()",
   "id": "ddceae7cc9604fc",
   "outputs": [
    {
     "data": {
      "text/plain": [
       "   itching  skin_rash  nodal_skin_eruptions  continuous_sneezing  shivering  \\\n",
       "0        1          1                     1                    0          0   \n",
       "1        0          1                     1                    0          0   \n",
       "2        1          0                     1                    0          0   \n",
       "3        1          1                     0                    0          0   \n",
       "4        1          1                     1                    0          0   \n",
       "\n",
       "   chills  joint_pain  stomach_pain  acidity  ulcers_on_tongue  ...  \\\n",
       "0       0           0             0        0                 0  ...   \n",
       "1       0           0             0        0                 0  ...   \n",
       "2       0           0             0        0                 0  ...   \n",
       "3       0           0             0        0                 0  ...   \n",
       "4       0           0             0        0                 0  ...   \n",
       "\n",
       "   blackheads  scurring  skin_peeling  silver_like_dusting  \\\n",
       "0           0         0             0                    0   \n",
       "1           0         0             0                    0   \n",
       "2           0         0             0                    0   \n",
       "3           0         0             0                    0   \n",
       "4           0         0             0                    0   \n",
       "\n",
       "   small_dents_in_nails  inflammatory_nails  blister  red_sore_around_nose  \\\n",
       "0                     0                   0        0                     0   \n",
       "1                     0                   0        0                     0   \n",
       "2                     0                   0        0                     0   \n",
       "3                     0                   0        0                     0   \n",
       "4                     0                   0        0                     0   \n",
       "\n",
       "   yellow_crust_ooze         prognosis  \n",
       "0                  0  Fungal infection  \n",
       "1                  0  Fungal infection  \n",
       "2                  0  Fungal infection  \n",
       "3                  0  Fungal infection  \n",
       "4                  0  Fungal infection  \n",
       "\n",
       "[5 rows x 133 columns]"
      ],
      "text/html": [
       "<div>\n",
       "<style scoped>\n",
       "    .dataframe tbody tr th:only-of-type {\n",
       "        vertical-align: middle;\n",
       "    }\n",
       "\n",
       "    .dataframe tbody tr th {\n",
       "        vertical-align: top;\n",
       "    }\n",
       "\n",
       "    .dataframe thead th {\n",
       "        text-align: right;\n",
       "    }\n",
       "</style>\n",
       "<table border=\"1\" class=\"dataframe\">\n",
       "  <thead>\n",
       "    <tr style=\"text-align: right;\">\n",
       "      <th></th>\n",
       "      <th>itching</th>\n",
       "      <th>skin_rash</th>\n",
       "      <th>nodal_skin_eruptions</th>\n",
       "      <th>continuous_sneezing</th>\n",
       "      <th>shivering</th>\n",
       "      <th>chills</th>\n",
       "      <th>joint_pain</th>\n",
       "      <th>stomach_pain</th>\n",
       "      <th>acidity</th>\n",
       "      <th>ulcers_on_tongue</th>\n",
       "      <th>...</th>\n",
       "      <th>blackheads</th>\n",
       "      <th>scurring</th>\n",
       "      <th>skin_peeling</th>\n",
       "      <th>silver_like_dusting</th>\n",
       "      <th>small_dents_in_nails</th>\n",
       "      <th>inflammatory_nails</th>\n",
       "      <th>blister</th>\n",
       "      <th>red_sore_around_nose</th>\n",
       "      <th>yellow_crust_ooze</th>\n",
       "      <th>prognosis</th>\n",
       "    </tr>\n",
       "  </thead>\n",
       "  <tbody>\n",
       "    <tr>\n",
       "      <th>0</th>\n",
       "      <td>1</td>\n",
       "      <td>1</td>\n",
       "      <td>1</td>\n",
       "      <td>0</td>\n",
       "      <td>0</td>\n",
       "      <td>0</td>\n",
       "      <td>0</td>\n",
       "      <td>0</td>\n",
       "      <td>0</td>\n",
       "      <td>0</td>\n",
       "      <td>...</td>\n",
       "      <td>0</td>\n",
       "      <td>0</td>\n",
       "      <td>0</td>\n",
       "      <td>0</td>\n",
       "      <td>0</td>\n",
       "      <td>0</td>\n",
       "      <td>0</td>\n",
       "      <td>0</td>\n",
       "      <td>0</td>\n",
       "      <td>Fungal infection</td>\n",
       "    </tr>\n",
       "    <tr>\n",
       "      <th>1</th>\n",
       "      <td>0</td>\n",
       "      <td>1</td>\n",
       "      <td>1</td>\n",
       "      <td>0</td>\n",
       "      <td>0</td>\n",
       "      <td>0</td>\n",
       "      <td>0</td>\n",
       "      <td>0</td>\n",
       "      <td>0</td>\n",
       "      <td>0</td>\n",
       "      <td>...</td>\n",
       "      <td>0</td>\n",
       "      <td>0</td>\n",
       "      <td>0</td>\n",
       "      <td>0</td>\n",
       "      <td>0</td>\n",
       "      <td>0</td>\n",
       "      <td>0</td>\n",
       "      <td>0</td>\n",
       "      <td>0</td>\n",
       "      <td>Fungal infection</td>\n",
       "    </tr>\n",
       "    <tr>\n",
       "      <th>2</th>\n",
       "      <td>1</td>\n",
       "      <td>0</td>\n",
       "      <td>1</td>\n",
       "      <td>0</td>\n",
       "      <td>0</td>\n",
       "      <td>0</td>\n",
       "      <td>0</td>\n",
       "      <td>0</td>\n",
       "      <td>0</td>\n",
       "      <td>0</td>\n",
       "      <td>...</td>\n",
       "      <td>0</td>\n",
       "      <td>0</td>\n",
       "      <td>0</td>\n",
       "      <td>0</td>\n",
       "      <td>0</td>\n",
       "      <td>0</td>\n",
       "      <td>0</td>\n",
       "      <td>0</td>\n",
       "      <td>0</td>\n",
       "      <td>Fungal infection</td>\n",
       "    </tr>\n",
       "    <tr>\n",
       "      <th>3</th>\n",
       "      <td>1</td>\n",
       "      <td>1</td>\n",
       "      <td>0</td>\n",
       "      <td>0</td>\n",
       "      <td>0</td>\n",
       "      <td>0</td>\n",
       "      <td>0</td>\n",
       "      <td>0</td>\n",
       "      <td>0</td>\n",
       "      <td>0</td>\n",
       "      <td>...</td>\n",
       "      <td>0</td>\n",
       "      <td>0</td>\n",
       "      <td>0</td>\n",
       "      <td>0</td>\n",
       "      <td>0</td>\n",
       "      <td>0</td>\n",
       "      <td>0</td>\n",
       "      <td>0</td>\n",
       "      <td>0</td>\n",
       "      <td>Fungal infection</td>\n",
       "    </tr>\n",
       "    <tr>\n",
       "      <th>4</th>\n",
       "      <td>1</td>\n",
       "      <td>1</td>\n",
       "      <td>1</td>\n",
       "      <td>0</td>\n",
       "      <td>0</td>\n",
       "      <td>0</td>\n",
       "      <td>0</td>\n",
       "      <td>0</td>\n",
       "      <td>0</td>\n",
       "      <td>0</td>\n",
       "      <td>...</td>\n",
       "      <td>0</td>\n",
       "      <td>0</td>\n",
       "      <td>0</td>\n",
       "      <td>0</td>\n",
       "      <td>0</td>\n",
       "      <td>0</td>\n",
       "      <td>0</td>\n",
       "      <td>0</td>\n",
       "      <td>0</td>\n",
       "      <td>Fungal infection</td>\n",
       "    </tr>\n",
       "  </tbody>\n",
       "</table>\n",
       "<p>5 rows × 133 columns</p>\n",
       "</div>"
      ]
     },
     "execution_count": 14,
     "metadata": {},
     "output_type": "execute_result"
    }
   ],
   "execution_count": 14
  },
  {
   "metadata": {
    "ExecuteTime": {
     "end_time": "2025-04-06T18:16:41.812703Z",
     "start_time": "2025-04-06T18:16:41.803586Z"
    }
   },
   "cell_type": "code",
   "source": "dataset.shape",
   "id": "77dff1c1a57c8c31",
   "outputs": [
    {
     "data": {
      "text/plain": [
       "(4920, 133)"
      ]
     },
     "execution_count": 15,
     "metadata": {},
     "output_type": "execute_result"
    }
   ],
   "execution_count": 15
  },
  {
   "metadata": {
    "ExecuteTime": {
     "end_time": "2025-04-04T18:29:40.361267Z",
     "start_time": "2025-04-04T18:29:40.358176Z"
    }
   },
   "cell_type": "code",
   "source": "# vals = dataset.values.flatten()",
   "id": "42f81e2e5cad3f01",
   "outputs": [],
   "execution_count": null
  },
  {
   "metadata": {
    "ExecuteTime": {
     "end_time": "2025-04-07T08:59:29.453173Z",
     "start_time": "2025-04-07T08:59:29.445120Z"
    }
   },
   "cell_type": "code",
   "source": [
    "from sklearn.model_selection import train_test_split\n",
    "from sklearn.preprocessing import LabelEncoder"
   ],
   "id": "45289ba5cdbacdef",
   "outputs": [],
   "execution_count": 21
  },
  {
   "metadata": {},
   "cell_type": "markdown",
   "source": "",
   "id": "cfd57fd6bc562f71"
  },
  {
   "metadata": {
    "ExecuteTime": {
     "end_time": "2025-04-06T18:16:48.396806Z",
     "start_time": "2025-04-06T18:16:48.373572Z"
    }
   },
   "cell_type": "code",
   "source": [
    "x = dataset.drop('prognosis', axis=1)\n",
    "y = dataset['prognosis']\n",
    "\n",
    "lab_encoder = LabelEncoder()\n",
    "lab_encoder.fit(y)\n",
    "Y = lab_encoder.transform(y)\n",
    "\n",
    "X_train, X_test, y_train, y_test = train_test_split(x, y, test_size=0.3, random_state=20)"
   ],
   "id": "bf0a3afc4334a151",
   "outputs": [],
   "execution_count": 17
  },
  {
   "metadata": {
    "ExecuteTime": {
     "end_time": "2025-04-07T17:35:46.967707Z",
     "start_time": "2025-04-07T17:35:46.942879Z"
    }
   },
   "cell_type": "code",
   "source": [
    "from sklearn.datasets import make_classification\n",
    "from sklearn.model_selection import train_test_split\n",
    "from sklearn.svm import SVC\n",
    "from sklearn.ensemble import RandomForestClassifier, GradientBoostingClassifier\n",
    "from sklearn.neighbors import KNeighborsClassifier\n",
    "from sklearn.naive_bayes import MultinomialNB\n",
    "from sklearn.metrics import accuracy_score, confusion_matrix\n",
    "import numpy as np"
   ],
   "id": "32716e039fc5c5d8",
   "outputs": [],
   "execution_count": 25
  },
  {
   "metadata": {
    "ExecuteTime": {
     "end_time": "2025-04-07T17:36:16.864901Z",
     "start_time": "2025-04-07T17:35:51.250692Z"
    }
   },
   "cell_type": "code",
   "source": [
    "models = {\n",
    "    'SVC' : SVC(kernel = 'linear'),\n",
    "    'RandomForestClassifier' : RandomForestClassifier(n_estimators=100, random_state=42),\n",
    "    'GradientBoostingClassifier' : GradientBoostingClassifier(n_estimators = 100, random_state=42),\n",
    "    'KNeighborsClassifier' : KNeighborsClassifier(n_neighbors=5),\n",
    "    'MultinomialNB' : MultinomialNB()\n",
    "}\n",
    "\n",
    "for model_name, model in models.items():\n",
    "    model.fit(X_train, y_train)\n",
    "\n",
    "    predictions = model.predict(X_test)\n",
    "\n",
    "    accuracy = accuracy_score(y_test, predictions)\n",
    "    print(f'{model_name} : {accuracy}')\n",
    "\n",
    "    confusion_Matrix = confusion_matrix(y_test, predictions)\n",
    "    print(f'{model_name} Confusion Matrix: ')\n",
    "    print(np.array2string(confusion_Matrix, separator = ','))\n",
    "\n",
    "    print('\\n' + \" = \" *40 + \"\\n\")"
   ],
   "id": "d38a6f69ec8d674d",
   "outputs": [
    {
     "name": "stdout",
     "output_type": "stream",
     "text": [
      "SVC : 1.0\n",
      "SVC Confusion Matrix: \n",
      "[[40, 0, 0,..., 0, 0, 0],\n",
      " [ 0,43, 0,..., 0, 0, 0],\n",
      " [ 0, 0,28,..., 0, 0, 0],\n",
      " ...,\n",
      " [ 0, 0, 0,...,34, 0, 0],\n",
      " [ 0, 0, 0,..., 0,41, 0],\n",
      " [ 0, 0, 0,..., 0, 0,31]]\n",
      "\n",
      " =  =  =  =  =  =  =  =  =  =  =  =  =  =  =  =  =  =  =  =  =  =  =  =  =  =  =  =  =  =  =  =  =  =  =  =  =  =  =  = \n",
      "\n",
      "RandomForestClassifier : 1.0\n",
      "RandomForestClassifier Confusion Matrix: \n",
      "[[40, 0, 0,..., 0, 0, 0],\n",
      " [ 0,43, 0,..., 0, 0, 0],\n",
      " [ 0, 0,28,..., 0, 0, 0],\n",
      " ...,\n",
      " [ 0, 0, 0,...,34, 0, 0],\n",
      " [ 0, 0, 0,..., 0,41, 0],\n",
      " [ 0, 0, 0,..., 0, 0,31]]\n",
      "\n",
      " =  =  =  =  =  =  =  =  =  =  =  =  =  =  =  =  =  =  =  =  =  =  =  =  =  =  =  =  =  =  =  =  =  =  =  =  =  =  =  = \n",
      "\n",
      "GradientBoostingClassifier : 1.0\n",
      "GradientBoostingClassifier Confusion Matrix: \n",
      "[[40, 0, 0,..., 0, 0, 0],\n",
      " [ 0,43, 0,..., 0, 0, 0],\n",
      " [ 0, 0,28,..., 0, 0, 0],\n",
      " ...,\n",
      " [ 0, 0, 0,...,34, 0, 0],\n",
      " [ 0, 0, 0,..., 0,41, 0],\n",
      " [ 0, 0, 0,..., 0, 0,31]]\n",
      "\n",
      " =  =  =  =  =  =  =  =  =  =  =  =  =  =  =  =  =  =  =  =  =  =  =  =  =  =  =  =  =  =  =  =  =  =  =  =  =  =  =  = \n",
      "\n",
      "KNeighborsClassifier : 1.0\n",
      "KNeighborsClassifier Confusion Matrix: \n",
      "[[40, 0, 0,..., 0, 0, 0],\n",
      " [ 0,43, 0,..., 0, 0, 0],\n",
      " [ 0, 0,28,..., 0, 0, 0],\n",
      " ...,\n",
      " [ 0, 0, 0,...,34, 0, 0],\n",
      " [ 0, 0, 0,..., 0,41, 0],\n",
      " [ 0, 0, 0,..., 0, 0,31]]\n",
      "\n",
      " =  =  =  =  =  =  =  =  =  =  =  =  =  =  =  =  =  =  =  =  =  =  =  =  =  =  =  =  =  =  =  =  =  =  =  =  =  =  =  = \n",
      "\n",
      "MultinomialNB : 1.0\n",
      "MultinomialNB Confusion Matrix: \n",
      "[[40, 0, 0,..., 0, 0, 0],\n",
      " [ 0,43, 0,..., 0, 0, 0],\n",
      " [ 0, 0,28,..., 0, 0, 0],\n",
      " ...,\n",
      " [ 0, 0, 0,...,34, 0, 0],\n",
      " [ 0, 0, 0,..., 0,41, 0],\n",
      " [ 0, 0, 0,..., 0, 0,31]]\n",
      "\n",
      " =  =  =  =  =  =  =  =  =  =  =  =  =  =  =  =  =  =  =  =  =  =  =  =  =  =  =  =  =  =  =  =  =  =  =  =  =  =  =  = \n",
      "\n"
     ]
    }
   ],
   "execution_count": 26
  },
  {
   "metadata": {
    "ExecuteTime": {
     "end_time": "2025-04-08T01:19:40.686300Z",
     "start_time": "2025-04-08T01:19:40.493044Z"
    }
   },
   "cell_type": "code",
   "source": [
    "svc = SVC(kernel = \"linear\")\n",
    "svc.fit(X_train, y_train)\n",
    "predictions = svc.predict(X_test)\n",
    "accuracy = accuracy_score(y_test, predictions)"
   ],
   "id": "abab920d1c026e7",
   "outputs": [],
   "execution_count": 27
  },
  {
   "metadata": {
    "ExecuteTime": {
     "end_time": "2025-04-08T01:46:19.726444Z",
     "start_time": "2025-04-08T01:46:19.720264Z"
    }
   },
   "cell_type": "code",
   "source": [
    "import pickle as pkl\n",
    "pkl.dump(svc,open('svc_model.pkl', 'wb'))"
   ],
   "id": "8672025d1ead6e2e",
   "outputs": [],
   "execution_count": 41
  },
  {
   "metadata": {
    "ExecuteTime": {
     "end_time": "2025-04-08T01:58:05.395708Z",
     "start_time": "2025-04-08T01:58:05.389793Z"
    }
   },
   "cell_type": "code",
   "source": "svc = pkl.load(open('svc_model.pkl', 'rb'))",
   "id": "13fff9d245dde7ad",
   "outputs": [],
   "execution_count": 44
  },
  {
   "metadata": {
    "ExecuteTime": {
     "end_time": "2025-04-08T01:59:13.842718Z",
     "start_time": "2025-04-08T01:59:13.837252Z"
    }
   },
   "cell_type": "code",
   "source": [
    "print(\"Predicted Disease: \", svc.predict(X_test.iloc[0].values.reshape(1, -1)))\n",
    "print(\"Actual Disease: \", y_test.iloc[0])"
   ],
   "id": "dbabd6c2d2d08794",
   "outputs": [
    {
     "name": "stdout",
     "output_type": "stream",
     "text": [
      "Predicted Disease:  ['hepatitis A']\n",
      "Actual Disease:  hepatitis A\n"
     ]
    },
    {
     "name": "stderr",
     "output_type": "stream",
     "text": [
      "C:\\Users\\OMEN\\PycharmProjects\\DiagnoEase\\.venv\\Lib\\site-packages\\sklearn\\utils\\validation.py:2739: UserWarning: X does not have valid feature names, but SVC was fitted with feature names\n",
      "  warnings.warn(\n"
     ]
    }
   ],
   "execution_count": 48
  },
  {
   "metadata": {
    "ExecuteTime": {
     "end_time": "2025-04-08T01:59:03.687188Z",
     "start_time": "2025-04-08T01:59:03.681679Z"
    }
   },
   "cell_type": "code",
   "source": [
    "print(\"Predicted Disease: \", svc.predict(X_test.iloc[100].values.reshape(1, -1)))\n",
    "print(\"Actual Disease: \", y_test.iloc[100])"
   ],
   "id": "623f7c126686f944",
   "outputs": [
    {
     "name": "stdout",
     "output_type": "stream",
     "text": [
      "Predicted Disease:  ['Varicose veins']\n",
      "Actual Disease:  Varicose veins\n"
     ]
    },
    {
     "name": "stderr",
     "output_type": "stream",
     "text": [
      "C:\\Users\\OMEN\\PycharmProjects\\DiagnoEase\\.venv\\Lib\\site-packages\\sklearn\\utils\\validation.py:2739: UserWarning: X does not have valid feature names, but SVC was fitted with feature names\n",
      "  warnings.warn(\n"
     ]
    }
   ],
   "execution_count": 47
  },
  {
   "metadata": {
    "ExecuteTime": {
     "end_time": "2025-04-08T02:05:34.782862Z",
     "start_time": "2025-04-08T02:05:34.760838Z"
    }
   },
   "cell_type": "code",
   "source": [
    "symptoms_des = pd.read_csv(\"datasets/symptoms_df.csv\")\n",
    "precautions = pd.read_csv(\"datasets/precautions_df.csv\")\n",
    "workout = pd.read_csv(\"datasets/workout_df.csv\")\n",
    "diets = pd.read_csv(\"datasets/diets.csv\")\n",
    "medications = pd.read_csv(\"datasets/medications.csv\")"
   ],
   "id": "3c1aa550ae533eb6",
   "outputs": [],
   "execution_count": 51
  },
  {
   "metadata": {},
   "cell_type": "code",
   "outputs": [],
   "execution_count": null,
   "source": "",
   "id": "928f5b46a97a89bd"
  },
  {
   "metadata": {},
   "cell_type": "code",
   "outputs": [],
   "execution_count": null,
   "source": [
    "import numpy as np\n",
    "\n",
    "\n",
    "\n",
    "\n",
    "def get_predicted_disease(symptoms):\n",
    "\n",
    "    input_vector = np.zeros(len(symptoms_dict))\n",
    "\n",
    "    for symptom in symptoms:\n",
    "        if symptom in symptoms_dict:\n",
    "            input_vector[symptoms_dict[symptom]] = 1\n",
    "        else:\n",
    "            print(f\"[Warning] Symptom '{symptom}' not recognized.\")\n",
    "\n",
    "    predicted_index = svc.predict([input_vector])[0]\n",
    "    return diseases_list.get(predicted_index, \"Unknown Disease\")\n",
    "\n",
    "\n",
    "# Get detailed information for a disease\n",
    "def get_disease_info(disease_name):\n",
    "\n",
    "    desc_row = description[description['Disease'] == disease_name]['Description']\n",
    "    description_text = \" \".join(desc_row.astype(str)) if not desc_row.empty else \"No description available.\"\n",
    "\n",
    "    # Precautions\n",
    "    pre_row = precautions[precautions['Disease'] == disease_name]\n",
    "    precaution_list = pre_row[['Precaution_1', 'Precaution_2', 'Precaution_3', 'Precaution_4']].values.flatten().tolist() if not pre_row.empty else []\n",
    "\n",
    "    # Medications\n",
    "    med_row = medications[medications['Disease'] == disease_name]['Medication']\n",
    "    medication_list = med_row.tolist() if not med_row.empty else []\n",
    "\n",
    "    # Diet\n",
    "    diet_row = diets[diets['Disease'] == disease_name]['Diet']\n",
    "    diet_list = diet_row.tolist() if not diet_row.empty else []\n",
    "\n",
    "    # Workout\n",
    "    workout_row = workout[workout['disease'] == disease_name]['workout']\n",
    "    workout_list = workout_row.tolist() if not workout_row.empty else []\n",
    "\n",
    "    return {\n",
    "        \"Description\": description_text,\n",
    "        \"Precautions\": precaution_list,\n",
    "        \"Medications\": medication_list,\n",
    "        \"Diet\": diet_list,\n",
    "        \"Workout\": workout_list\n",
    "    }\n"
   ],
   "id": "d8065c6b0cd354c6"
  }
 ],
 "metadata": {
  "kernelspec": {
   "display_name": "Python 3",
   "language": "python",
   "name": "python3"
  },
  "language_info": {
   "codemirror_mode": {
    "name": "ipython",
    "version": 2
   },
   "file_extension": ".py",
   "mimetype": "text/x-python",
   "name": "python",
   "nbconvert_exporter": "python",
   "pygments_lexer": "ipython2",
   "version": "2.7.6"
  }
 },
 "nbformat": 4,
 "nbformat_minor": 5
}
