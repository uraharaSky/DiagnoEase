{
 "cells": [
  {
   "cell_type": "code",
   "id": "initial_id",
   "metadata": {
    "collapsed": true,
    "ExecuteTime": {
     "end_time": "2025-03-11T17:32:31.652358Z",
     "start_time": "2025-03-11T17:32:30.855558Z"
    }
   },
   "source": "import pandas as pd",
   "outputs": [],
   "execution_count": 3
  },
  {
   "metadata": {
    "ExecuteTime": {
     "end_time": "2025-03-11T17:33:07.322989Z",
     "start_time": "2025-03-11T17:33:07.310253Z"
    }
   },
   "cell_type": "code",
   "source": "dataset = pd.read_csv(\"datasets/diagnoease_dataset.csv\")",
   "id": "4127003a7ab8941d",
   "outputs": [],
   "execution_count": 6
  },
  {
   "metadata": {
    "ExecuteTime": {
     "end_time": "2025-03-11T17:33:29.560119Z",
     "start_time": "2025-03-11T17:33:29.541215Z"
    }
   },
   "cell_type": "code",
   "source": "print(dataset)",
   "id": "ebcdb327d5c32411",
   "outputs": [
    {
     "name": "stdout",
     "output_type": "stream",
     "text": [
      "                  Symptom  weight\n",
      "0                 itching       1\n",
      "1               skin_rash       3\n",
      "2    nodal_skin_eruptions       4\n",
      "3     continuous_sneezing       4\n",
      "4               shivering       5\n",
      "..                    ...     ...\n",
      "128    inflammatory_nails       2\n",
      "129               blister       4\n",
      "130  red_sore_around_nose       2\n",
      "131     yellow_crust_ooze       3\n",
      "132             prognosis       5\n",
      "\n",
      "[133 rows x 2 columns]\n"
     ]
    }
   ],
   "execution_count": 7
  },
  {
   "metadata": {
    "ExecuteTime": {
     "end_time": "2025-04-04T18:29:43.197703Z",
     "start_time": "2025-04-04T18:29:43.158404Z"
    }
   },
   "cell_type": "code",
   "source": "df.head()",
   "id": "77dff1c1a57c8c31",
   "outputs": [
    {
     "ename": "NameError",
     "evalue": "name 'df' is not defined",
     "output_type": "error",
     "traceback": [
      "\u001B[31m---------------------------------------------------------------------------\u001B[39m",
      "\u001B[31mNameError\u001B[39m                                 Traceback (most recent call last)",
      "\u001B[36mCell\u001B[39m\u001B[36m \u001B[39m\u001B[32mIn[3]\u001B[39m\u001B[32m, line 1\u001B[39m\n\u001B[32m----> \u001B[39m\u001B[32m1\u001B[39m \u001B[43mdf\u001B[49m.head()\n",
      "\u001B[31mNameError\u001B[39m: name 'df' is not defined"
     ]
    }
   ],
   "execution_count": 3
  },
  {
   "metadata": {
    "ExecuteTime": {
     "end_time": "2025-04-04T18:29:40.361267Z",
     "start_time": "2025-04-04T18:29:40.358176Z"
    }
   },
   "cell_type": "code",
   "source": "",
   "id": "42f81e2e5cad3f01",
   "outputs": [],
   "execution_count": null
  },
  {
   "metadata": {},
   "cell_type": "code",
   "outputs": [],
   "execution_count": null,
   "source": "",
   "id": "45289ba5cdbacdef"
  }
 ],
 "metadata": {
  "kernelspec": {
   "display_name": "Python 3",
   "language": "python",
   "name": "python3"
  },
  "language_info": {
   "codemirror_mode": {
    "name": "ipython",
    "version": 2
   },
   "file_extension": ".py",
   "mimetype": "text/x-python",
   "name": "python",
   "nbconvert_exporter": "python",
   "pygments_lexer": "ipython2",
   "version": "2.7.6"
  }
 },
 "nbformat": 4,
 "nbformat_minor": 5
}
